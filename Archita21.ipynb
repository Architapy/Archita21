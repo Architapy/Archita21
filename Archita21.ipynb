{
  "nbformat": 4,
  "nbformat_minor": 0,
  "metadata": {
    "colab": {
      "name": "Archita21.ipynb",
      "provenance": [],
      "collapsed_sections": []
    },
    "kernelspec": {
      "name": "python3",
      "display_name": "Python 3"
    },
    "language_info": {
      "name": "python"
    }
  },
  "cells": [
    {
      "cell_type": "code",
      "metadata": {
        "id": "FS1m-dIy_r_H"
      },
      "source": [
        "import hashlib"
      ],
      "execution_count": 2,
      "outputs": []
    },
    {
      "cell_type": "code",
      "metadata": {
        "colab": {
          "base_uri": "https://localhost:8080/"
        },
        "id": "tzc3U8AJ_5vq",
        "outputId": "379f6cb6-35a5-450f-a710-ab92792f9b3c"
      },
      "source": [
        "print(hashlib.md5(\"This is a string\".encode('utf-8')).hexdigest())\n",
        "print(hashlib.md5(\"000005fab4534d05key9a055eb014e4e5d52write\".encode('utf-8')).hexdigest())"
      ],
      "execution_count": 3,
      "outputs": [
        {
          "output_type": "stream",
          "text": [
            "41fb5b5ae4d57c5ee528adb00e5e8e74\n",
            "f927aa1d44b04f82738f38a031977344\n"
          ],
          "name": "stdout"
        }
      ]
    },
    {
      "cell_type": "code",
      "metadata": {
        "colab": {
          "base_uri": "https://localhost:8080/"
        },
        "id": "jdIBJDlF_8v0",
        "outputId": "8141a088-ffae-43d6-c573-5d58a5cf313c"
      },
      "source": [
        "print(hashlib.md5(\"This is a string\".encode('utf-8')).digest())\n",
        "print(hashlib.md5(\"000005fab4534d05key9a055eb014e4e5d52write\".encode('utf-8')).digest())"
      ],
      "execution_count": 4,
      "outputs": [
        {
          "output_type": "stream",
          "text": [
            "b'A\\xfb[Z\\xe4\\xd5|^\\xe5(\\xad\\xb0\\x0e^\\x8et'\n",
            "b\"\\xf9'\\xaa\\x1dD\\xb0O\\x82s\\x8f8\\xa01\\x97sD\"\n"
          ],
          "name": "stdout"
        }
      ]
    }
  ]
}